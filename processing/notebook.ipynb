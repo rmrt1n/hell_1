{
  "nbformat": 4,
  "nbformat_minor": 0,
  "metadata": {
    "colab": {
      "name": "hanjipyung.ipynb",
      "provenance": []
    },
    "kernelspec": {
      "name": "python3",
      "display_name": "Python 3"
    },
    "language_info": {
      "name": "python"
    }
  },
  "cells": [
    {
      "cell_type": "markdown",
      "metadata": {
        "id": "UNVyulbTv6Km"
      },
      "source": [
        "### **imports**"
      ]
    },
    {
      "cell_type": "code",
      "metadata": {
        "id": "0zp7Hd-CtuHP"
      },
      "source": [
        "# https://vigneshwarilango.medium.com/predicting-continuous-target-variables-with-images-demand-forecasting-e05145e822fe\n",
        "import os\n",
        "import tensorflow as tf\n",
        "from tensorflow.keras import layers\n",
        "from tensorflow.keras import Model\n",
        "\n",
        "from keras.preprocessing.image import ImageDataGenerator"
      ],
      "execution_count": null,
      "outputs": []
    },
    {
      "cell_type": "markdown",
      "metadata": {
        "id": "KixEMTPLwJ1y"
      },
      "source": [
        "### **hyperparameters**"
      ]
    },
    {
      "cell_type": "code",
      "metadata": {
        "id": "tI8N0kujwKJh"
      },
      "source": [
        "loss_used = 'mean_squared_error'\n",
        "metrics = ['mean_squared_error']\n",
        "optimizer = 'adam'\n",
        "batch_size = 64\n",
        "epochs = 5"
      ],
      "execution_count": null,
      "outputs": []
    },
    {
      "cell_type": "markdown",
      "metadata": {
        "id": "kBc4jkIRwoRn"
      },
      "source": [
        "### **saving locations**"
      ]
    },
    {
      "cell_type": "code",
      "metadata": {
        "id": "RFa74PGswoWG"
      },
      "source": [
        "from tensorflow.keras.applications import VGG16\n",
        "\n",
        "pre_trained_model = VGG16(input_shape=(100, 100, 3), include_top=False, weights='imagenet')\n",
        "\n",
        "for i in pre_trained_model.layers:\n",
        "  i.trainable = False"
      ],
      "execution_count": null,
      "outputs": []
    },
    {
      "cell_type": "code",
      "metadata": {
        "colab": {
          "base_uri": "https://localhost:8080/"
        },
        "id": "udrSqxl9E1Iy",
        "outputId": "38508a8b-841f-4724-c9a6-ca10dc6226ea"
      },
      "source": [
        "last_layer = pre_trained_model.get_layer('block5_conv3')\n",
        "print('last layer output shape: ', last_layer.output_shape)\n",
        "last_output = last_layer.output"
      ],
      "execution_count": null,
      "outputs": [
        {
          "output_type": "stream",
          "name": "stdout",
          "text": [
            "last layer output shape:  (None, 6, 6, 512)\n"
          ]
        }
      ]
    },
    {
      "cell_type": "markdown",
      "metadata": {
        "id": "q4g31elZx7td"
      },
      "source": [
        ""
      ]
    },
    {
      "cell_type": "code",
      "metadata": {
        "colab": {
          "base_uri": "https://localhost:8080/"
        },
        "id": "PE0oHE3H6ZBi",
        "outputId": "9da964b2-2b17-4930-c672-3f3a802f17f6"
      },
      "source": [
        "from tensorflow.keras.optimizers import RMSprop\n",
        "\n",
        "x = layers.Flatten()(last_output)\n",
        "x = layers.Dense(1024, activation='relu')(x)\n",
        "x = layers.Dropout(0.2)(x)\n",
        "x = layers.Dense(1, activation='linear')(x)\n",
        "\n",
        "model = Model(pre_trained_model.input, x)\n",
        "model.compile(optimizer=RMSprop(learning_rate=0.0001), loss=loss_used, metrics=metrics)\n",
        "model.summary()\n"
      ],
      "execution_count": null,
      "outputs": [
        {
          "output_type": "stream",
          "name": "stdout",
          "text": [
            "Model: \"model_3\"\n",
            "_________________________________________________________________\n",
            "Layer (type)                 Output Shape              Param #   \n",
            "=================================================================\n",
            "input_5 (InputLayer)         [(None, 100, 100, 3)]     0         \n",
            "_________________________________________________________________\n",
            "block1_conv1 (Conv2D)        (None, 100, 100, 64)      1792      \n",
            "_________________________________________________________________\n",
            "block1_conv2 (Conv2D)        (None, 100, 100, 64)      36928     \n",
            "_________________________________________________________________\n",
            "block1_pool (MaxPooling2D)   (None, 50, 50, 64)        0         \n",
            "_________________________________________________________________\n",
            "block2_conv1 (Conv2D)        (None, 50, 50, 128)       73856     \n",
            "_________________________________________________________________\n",
            "block2_conv2 (Conv2D)        (None, 50, 50, 128)       147584    \n",
            "_________________________________________________________________\n",
            "block2_pool (MaxPooling2D)   (None, 25, 25, 128)       0         \n",
            "_________________________________________________________________\n",
            "block3_conv1 (Conv2D)        (None, 25, 25, 256)       295168    \n",
            "_________________________________________________________________\n",
            "block3_conv2 (Conv2D)        (None, 25, 25, 256)       590080    \n",
            "_________________________________________________________________\n",
            "block3_conv3 (Conv2D)        (None, 25, 25, 256)       590080    \n",
            "_________________________________________________________________\n",
            "block3_pool (MaxPooling2D)   (None, 12, 12, 256)       0         \n",
            "_________________________________________________________________\n",
            "block4_conv1 (Conv2D)        (None, 12, 12, 512)       1180160   \n",
            "_________________________________________________________________\n",
            "block4_conv2 (Conv2D)        (None, 12, 12, 512)       2359808   \n",
            "_________________________________________________________________\n",
            "block4_conv3 (Conv2D)        (None, 12, 12, 512)       2359808   \n",
            "_________________________________________________________________\n",
            "block4_pool (MaxPooling2D)   (None, 6, 6, 512)         0         \n",
            "_________________________________________________________________\n",
            "block5_conv1 (Conv2D)        (None, 6, 6, 512)         2359808   \n",
            "_________________________________________________________________\n",
            "block5_conv2 (Conv2D)        (None, 6, 6, 512)         2359808   \n",
            "_________________________________________________________________\n",
            "block5_conv3 (Conv2D)        (None, 6, 6, 512)         2359808   \n",
            "_________________________________________________________________\n",
            "flatten_3 (Flatten)          (None, 18432)             0         \n",
            "_________________________________________________________________\n",
            "dense_6 (Dense)              (None, 1024)              18875392  \n",
            "_________________________________________________________________\n",
            "dropout_3 (Dropout)          (None, 1024)              0         \n",
            "_________________________________________________________________\n",
            "dense_7 (Dense)              (None, 1)                 1025      \n",
            "=================================================================\n",
            "Total params: 33,591,105\n",
            "Trainable params: 18,876,417\n",
            "Non-trainable params: 14,714,688\n",
            "_________________________________________________________________\n"
          ]
        }
      ]
    },
    {
      "cell_type": "markdown",
      "metadata": {
        "id": "fPkuTayP8IQm"
      },
      "source": [
        "### **load data**"
      ]
    },
    {
      "cell_type": "code",
      "metadata": {
        "colab": {
          "base_uri": "https://localhost:8080/",
          "height": 206
        },
        "id": "_XLac9gS7w3n",
        "outputId": "8caef237-b390-4727-80f3-6010573cb10e"
      },
      "source": [
        "import pandas as pd\n",
        "\n",
        "df = pd.read_csv('processed.csv')\n",
        "df.head()"
      ],
      "execution_count": null,
      "outputs": [
        {
          "output_type": "execute_result",
          "data": {
            "text/html": [
              "<div>\n",
              "<style scoped>\n",
              "    .dataframe tbody tr th:only-of-type {\n",
              "        vertical-align: middle;\n",
              "    }\n",
              "\n",
              "    .dataframe tbody tr th {\n",
              "        vertical-align: top;\n",
              "    }\n",
              "\n",
              "    .dataframe thead th {\n",
              "        text-align: right;\n",
              "    }\n",
              "</style>\n",
              "<table border=\"1\" class=\"dataframe\">\n",
              "  <thead>\n",
              "    <tr style=\"text-align: right;\">\n",
              "      <th></th>\n",
              "      <th>id</th>\n",
              "      <th>title</th>\n",
              "      <th>poster_path</th>\n",
              "      <th>popularity</th>\n",
              "      <th>vote_count</th>\n",
              "      <th>vote_average</th>\n",
              "    </tr>\n",
              "  </thead>\n",
              "  <tbody>\n",
              "    <tr>\n",
              "      <th>0</th>\n",
              "      <td>550988</td>\n",
              "      <td>Free Guy</td>\n",
              "      <td>/xmbU4JTUm8rsdtn7Y3Fcm30GpeT.jpg</td>\n",
              "      <td>10620.879</td>\n",
              "      <td>1586</td>\n",
              "      <td>8.0</td>\n",
              "    </tr>\n",
              "    <tr>\n",
              "      <th>1</th>\n",
              "      <td>568620</td>\n",
              "      <td>Snake Eyes: G.I. Joe Origins</td>\n",
              "      <td>/uIXF0sQGXOxQhbaEaKOi2VYlIL0.jpg</td>\n",
              "      <td>5798.715</td>\n",
              "      <td>512</td>\n",
              "      <td>7.0</td>\n",
              "    </tr>\n",
              "    <tr>\n",
              "      <th>2</th>\n",
              "      <td>637534</td>\n",
              "      <td>The Stronghold</td>\n",
              "      <td>/nLanxl7Xhfbd5s8FxPy8jWZw4rv.jpg</td>\n",
              "      <td>3775.194</td>\n",
              "      <td>334</td>\n",
              "      <td>7.8</td>\n",
              "    </tr>\n",
              "    <tr>\n",
              "      <th>3</th>\n",
              "      <td>589754</td>\n",
              "      <td>The Last Warrior: Root of Evil</td>\n",
              "      <td>/5VJSIAhSn4qUsg5nOj4MhQhF5wQ.jpg</td>\n",
              "      <td>2768.295</td>\n",
              "      <td>31</td>\n",
              "      <td>7.6</td>\n",
              "    </tr>\n",
              "    <tr>\n",
              "      <th>4</th>\n",
              "      <td>703771</td>\n",
              "      <td>Deathstroke: Knights &amp; Dragons - The Movie</td>\n",
              "      <td>/vFIHbiy55smzi50RmF8LQjmpGcx.jpg</td>\n",
              "      <td>2446.227</td>\n",
              "      <td>234</td>\n",
              "      <td>7.0</td>\n",
              "    </tr>\n",
              "  </tbody>\n",
              "</table>\n",
              "</div>"
            ],
            "text/plain": [
              "       id                                       title  ... vote_count  vote_average\n",
              "0  550988                                    Free Guy  ...       1586           8.0\n",
              "1  568620                Snake Eyes: G.I. Joe Origins  ...        512           7.0\n",
              "2  637534                              The Stronghold  ...        334           7.8\n",
              "3  589754              The Last Warrior: Root of Evil  ...         31           7.6\n",
              "4  703771  Deathstroke: Knights & Dragons - The Movie  ...        234           7.0\n",
              "\n",
              "[5 rows x 6 columns]"
            ]
          },
          "metadata": {},
          "execution_count": 44
        }
      ]
    },
    {
      "cell_type": "code",
      "metadata": {
        "id": "ofdaoFKHl0uG"
      },
      "source": [
        "# https://stats.stackexchange.com/questions/6418/rating-system-taking-account-of-number-of-votes\n",
        "def weighted_rating(R, v):\n",
        "  C = df['vote_average'].mean()\n",
        "  m = 3000\n",
        "  return (v / (v + m)) * R + (m / (v + m)) * C"
      ],
      "execution_count": null,
      "outputs": []
    },
    {
      "cell_type": "code",
      "metadata": {
        "id": "Jn8bKgkdr4UX"
      },
      "source": [
        "from sklearn.model_selection import train_test_split\n",
        "\n",
        "df['weighted_score'] = weighted_rating(df['vote_count'], df['vote_average'])\n",
        "df['poster_path'] = 'drive/MyDrive/images' + df['poster_path']\n",
        "needed = df[['poster_path', 'weighted_score']]\n",
        "train_df, test_df = train_test_split(needed, test_size=0.2)"
      ],
      "execution_count": null,
      "outputs": []
    },
    {
      "cell_type": "markdown",
      "metadata": {
        "id": "4vjfFmqNB-IR"
      },
      "source": [
        "### **generators**"
      ]
    },
    {
      "cell_type": "code",
      "metadata": {
        "colab": {
          "base_uri": "https://localhost:8080/"
        },
        "id": "orWix0TlB93e",
        "outputId": "4ec028d5-1f75-466c-f0bf-d1418ad771ee"
      },
      "source": [
        "datagen = ImageDataGenerator(\n",
        "    rescale=1./255.,\n",
        "    rotation_range=40,\n",
        "    width_shift_range=0.2,\n",
        "    height_shift_range=0.2,\n",
        "    shear_range=0.2,\n",
        "    zoom_range=0.2,\n",
        "    horizontal_flip=True,\n",
        "    validation_split=0.20,\n",
        "    fill_mode='nearest')\n",
        "\n",
        "train_gen = datagen.flow_from_dataframe(\n",
        "    dataframe=train_df,\n",
        "    directory=None,\n",
        "    x_col='poster_path',\n",
        "    y_col='weighted_score',\n",
        "    subset='training', \n",
        "    batch_size=32,\n",
        "    seed=42,\n",
        "    shuffle=True,\n",
        "    class_mode='raw',\n",
        "    target_size=(100, 100))\n",
        "\n",
        "valid_gen = datagen.flow_from_dataframe(\n",
        "    dataframe=train_df,\n",
        "    directory=None,\n",
        "    x_col='poster_path',\n",
        "    y_col='weighted_score',\n",
        "    subset='validation', \n",
        "    batch_size=32,\n",
        "    seed=42,\n",
        "    shuffle=True,\n",
        "    class_mode='raw',\n",
        "    target_size=(100, 100))\n",
        "\n",
        "test_datagen = ImageDataGenerator(rescale=1./255.)\n",
        "\n",
        "test_den = test_datagen.flow_from_dataframe(\n",
        "    dataframe=test_df,\n",
        "    directory=None,\n",
        "    x_col='poster_path',\n",
        "    y_col=None,\n",
        "    batch_size=batch_size,\n",
        "    seed=42,\n",
        "    class_mode=None,\n",
        "    target_size=(100, 100))"
      ],
      "execution_count": null,
      "outputs": [
        {
          "output_type": "stream",
          "name": "stdout",
          "text": [
            "Found 6372 validated image filenames.\n",
            "Found 1593 validated image filenames.\n",
            "Found 1992 validated image filenames.\n"
          ]
        }
      ]
    },
    {
      "cell_type": "markdown",
      "metadata": {
        "id": "_w2aL6fHV2J2"
      },
      "source": [
        ""
      ]
    },
    {
      "cell_type": "markdown",
      "metadata": {
        "id": "NJl9Agl6V2HB"
      },
      "source": [
        ""
      ]
    },
    {
      "cell_type": "markdown",
      "metadata": {
        "id": "qEjOoOo5V2EE"
      },
      "source": [
        ""
      ]
    },
    {
      "cell_type": "markdown",
      "metadata": {
        "id": "-5sRLkYfV2Ab"
      },
      "source": [
        ""
      ]
    },
    {
      "cell_type": "markdown",
      "metadata": {
        "id": "n8NQX1dTV1Ai"
      },
      "source": [
        ""
      ]
    },
    {
      "cell_type": "code",
      "metadata": {
        "id": "9xxg4Xf1VsVa"
      },
      "source": [
        ""
      ],
      "execution_count": null,
      "outputs": []
    },
    {
      "cell_type": "code",
      "metadata": {
        "id": "NkC7EATJCn6l"
      },
      "source": [
        "# Define a Callback class that stops training once accuracy reaches 99.9%\n",
        "class MyCallback(tf.keras.callbacks.Callback):\n",
        "  def on_epoch_end(self, epoch, logs={}):\n",
        "    if logs.get('acc') is not None and logs.get('acc') > 0.999:\n",
        "      print('reached 99.9% accuracy so stopped training')\n",
        "      self.model.stop_training = True"
      ],
      "execution_count": null,
      "outputs": []
    },
    {
      "cell_type": "code",
      "metadata": {
        "id": "MoIc4rJNE0RO",
        "colab": {
          "base_uri": "https://localhost:8080/"
        },
        "outputId": "db3fd6bb-0f4a-4c37-863a-7950706abcb0"
      },
      "source": [
        "callbacks = MyCallback()\n",
        "history = model.fit(train_gen, validation_data=valid_gen, epochs=epochs, verbose=1, callbacks=[callbacks])"
      ],
      "execution_count": null,
      "outputs": [
        {
          "output_type": "stream",
          "name": "stdout",
          "text": [
            "Epoch 1/5\n",
            "200/200 [==============================] - 821s 4s/step - loss: 40.2905 - mean_squared_error: 40.2905 - val_loss: 35.6032 - val_mean_squared_error: 35.6032\n",
            "Epoch 2/5\n",
            "200/200 [==============================] - 802s 4s/step - loss: 38.9082 - mean_squared_error: 38.9082 - val_loss: 36.1031 - val_mean_squared_error: 36.1031\n",
            "Epoch 3/5\n",
            "200/200 [==============================] - 798s 4s/step - loss: 38.6792 - mean_squared_error: 38.6792 - val_loss: 39.0388 - val_mean_squared_error: 39.0388\n",
            "Epoch 4/5\n",
            "200/200 [==============================] - 801s 4s/step - loss: 38.4988 - mean_squared_error: 38.4988 - val_loss: 34.5745 - val_mean_squared_error: 34.5745\n",
            "Epoch 5/5\n",
            "200/200 [==============================] - 802s 4s/step - loss: 38.1467 - mean_squared_error: 38.1467 - val_loss: 34.5188 - val_mean_squared_error: 34.5188\n"
          ]
        }
      ]
    },
    {
      "cell_type": "markdown",
      "metadata": {
        "id": "3o1_ODD6FJYT"
      },
      "source": [
        "### **save model and plot**"
      ]
    },
    {
      "cell_type": "code",
      "metadata": {
        "id": "OJatGUy0FJdy",
        "colab": {
          "base_uri": "https://localhost:8080/"
        },
        "outputId": "7f952de7-e8cf-45a3-a067-32a2a5d3285e"
      },
      "source": [
        "model.save('saved_model3/1', save_format='tf')\n",
        "# model.save('drive/MyDrive/saved_model3/1', save_format='tf')"
      ],
      "execution_count": 75,
      "outputs": [
        {
          "output_type": "stream",
          "name": "stdout",
          "text": [
            "INFO:tensorflow:Assets written to: saved_model3/1/assets\n"
          ]
        }
      ]
    },
    {
      "cell_type": "code",
      "metadata": {
        "colab": {
          "base_uri": "https://localhost:8080/"
        },
        "id": "ijbB7LG_9DEZ",
        "outputId": "68898ccc-1a9c-4cde-d6aa-d971e619546e"
      },
      "source": [
        "!zip -r model.zip saved_model3"
      ],
      "execution_count": 76,
      "outputs": [
        {
          "output_type": "stream",
          "name": "stdout",
          "text": [
            "  adding: saved_model3/ (stored 0%)\n",
            "  adding: saved_model3/1/ (stored 0%)\n",
            "  adding: saved_model3/1/saved_model.pb (deflated 90%)\n",
            "  adding: saved_model3/1/assets/ (stored 0%)\n",
            "  adding: saved_model3/1/keras_metadata.pb (deflated 95%)\n",
            "  adding: saved_model3/1/variables/ (stored 0%)\n",
            "  adding: saved_model3/1/variables/variables.data-00000-of-00001 (deflated 19%)\n",
            "  adding: saved_model3/1/variables/variables.index (deflated 67%)\n"
          ]
        }
      ]
    },
    {
      "cell_type": "code",
      "metadata": {
        "colab": {
          "base_uri": "https://localhost:8080/"
        },
        "id": "1p5903Skzhyi",
        "outputId": "25ae162b-8ddf-4ebe-d1b3-1bc0198d7f2d"
      },
      "source": [
        "history.history.keys()"
      ],
      "execution_count": 59,
      "outputs": [
        {
          "output_type": "execute_result",
          "data": {
            "text/plain": [
              "dict_keys(['loss', 'mean_squared_error', 'val_loss', 'val_mean_squared_error'])"
            ]
          },
          "metadata": {},
          "execution_count": 59
        }
      ]
    },
    {
      "cell_type": "code",
      "metadata": {
        "id": "aZ_-KF1RFXw0",
        "colab": {
          "base_uri": "https://localhost:8080/",
          "height": 299
        },
        "outputId": "ef2a43e5-1b6d-4a8a-c393-d60d60eaf942"
      },
      "source": [
        "import matplotlib.pyplot as plt\n",
        "\n",
        "%matplotlib inline\n",
        "acc = history.history['mean_squared_error']\n",
        "val_acc = history.history['val_mean_squared_error']\n",
        "loss = history.history['loss']\n",
        "val_loss = history.history['val_loss']\n",
        "\n",
        "epochs = range(len(acc))\n",
        "fig1 = plt.gcf()\n",
        "plt.plot(epochs, acc, 'r', label='Training MSE')\n",
        "plt.plot(epochs, val_acc, 'b', label='Validation MSE')\n",
        "plt.title('Training and validation MSE')\n",
        "plt.legend(loc=0)\n",
        "fig1.savefig('accuracy_plot')\n",
        "\n",
        "plt.figure()\n",
        "plt.show()"
      ],
      "execution_count": 60,
      "outputs": [
        {
          "output_type": "display_data",
          "data": {
            "image/png": "[encoded data removed]",
            "text/plain": [
              "<Figure size 432x288 with 1 Axes>"
            ]
          },
          "metadata": {
            "needs_background": "light"
          }
        },
        {
          "output_type": "display_data",
          "data": {
            "text/plain": [
              "<Figure size 432x288 with 0 Axes>"
            ]
          },
          "metadata": {}
        }
      ]
    },
    {
      "cell_type": "code",
      "metadata": {
        "id": "VI9O5E0OF2CO",
        "colab": {
          "base_uri": "https://localhost:8080/",
          "height": 299
        },
        "outputId": "fbd8c2ae-a57f-497d-c9e4-ed744ec28f07"
      },
      "source": [
        "fig1 = plt.gcf()\n",
        "plt.plot(epochs, loss, 'r', label='Training loss')\n",
        "plt.plot(epochs, val_loss, 'b', label='Validation loss')\n",
        "plt.title('Training and validation loss')\n",
        "plt.legend(loc=0)\n",
        "plt.savefig('loss_plot')\n",
        "\n",
        "plt.figure()\n",
        "plt.show()"
      ],
      "execution_count": 62,
      "outputs": [
        {
          "output_type": "display_data",
          "data": {
            "image/png": "[encoded data removed]",
            "text/plain": [
              "<Figure size 432x288 with 1 Axes>"
            ]
          },
          "metadata": {
            "needs_background": "light"
          }
        },
        {
          "output_type": "display_data",
          "data": {
            "text/plain": [
              "<Figure size 432x288 with 0 Axes>"
            ]
          },
          "metadata": {}
        }
      ]
    },
    {
      "cell_type": "code",
      "metadata": {
        "id": "afimh31kF-f3",
        "colab": {
          "base_uri": "https://localhost:8080/"
        },
        "outputId": "b55d357d-010b-4410-adbb-8b7e7e0efaa6"
      },
      "source": [
        "scores = model.predict(test_den,verbose=1)"
      ],
      "execution_count": 63,
      "outputs": [
        {
          "output_type": "stream",
          "name": "stdout",
          "text": [
            "32/32 [==============================] - 194s 6s/step\n"
          ]
        }
      ]
    },
    {
      "cell_type": "code",
      "metadata": {
        "id": "-oeZ1r7rG-ZY",
        "colab": {
          "base_uri": "https://localhost:8080/"
        },
        "outputId": "3175d14d-1587-4f05-bb43-19e7200f1b61"
      },
      "source": [
        "scores"
      ],
      "execution_count": 64,
      "outputs": [
        {
          "output_type": "execute_result",
          "data": {
            "text/plain": [
              "array([[9.059406 ],\n",
              "       [7.6900325],\n",
              "       [8.989528 ],\n",
              "       ...,\n",
              "       [8.723275 ],\n",
              "       [5.3393517],\n",
              "       [8.134462 ]], dtype=float32)"
            ]
          },
          "metadata": {},
          "execution_count": 64
        }
      ]
    },
    {
      "cell_type": "code",
      "metadata": {
        "id": "HChUnAiCGbsj",
        "colab": {
          "base_uri": "https://localhost:8080/"
        },
        "outputId": "25aba84f-fe2f-46be-e307-461c421f8c42"
      },
      "source": [
        "result = test_df\n",
        "result['predicted'] = scores\n",
        "result['mape'] = abs((result['weighted_score'] - result['predicted']) / result['weighted_score']) * 100\n",
        "result.to_csv('results.csv')"
      ],
      "execution_count": 65,
      "outputs": [
        {
          "output_type": "stream",
          "name": "stderr",
          "text": [
            "/usr/local/lib/python3.7/dist-packages/ipykernel_launcher.py:2: SettingWithCopyWarning: \n",
            "A value is trying to be set on a copy of a slice from a DataFrame.\n",
            "Try using .loc[row_indexer,col_indexer] = value instead\n",
            "\n",
            "See the caveats in the documentation: https://pandas.pydata.org/pandas-docs/stable/user_guide/indexing.html#returning-a-view-versus-a-copy\n",
            "  \n",
            "/usr/local/lib/python3.7/dist-packages/ipykernel_launcher.py:3: SettingWithCopyWarning: \n",
            "A value is trying to be set on a copy of a slice from a DataFrame.\n",
            "Try using .loc[row_indexer,col_indexer] = value instead\n",
            "\n",
            "See the caveats in the documentation: https://pandas.pydata.org/pandas-docs/stable/user_guide/indexing.html#returning-a-view-versus-a-copy\n",
            "  This is separate from the ipykernel package so we can avoid doing imports until\n"
          ]
        }
      ]
    },
    {
      "cell_type": "code",
      "metadata": {
        "colab": {
          "base_uri": "https://localhost:8080/",
          "height": 424
        },
        "id": "BMgEEKVu1PYQ",
        "outputId": "204e60fa-5468-4664-c22a-ec64afabe961"
      },
      "source": [
        "result"
      ],
      "execution_count": 66,
      "outputs": [
        {
          "output_type": "execute_result",
          "data": {
            "text/html": [
              "<div>\n",
              "<style scoped>\n",
              "    .dataframe tbody tr th:only-of-type {\n",
              "        vertical-align: middle;\n",
              "    }\n",
              "\n",
              "    .dataframe tbody tr th {\n",
              "        vertical-align: top;\n",
              "    }\n",
              "\n",
              "    .dataframe thead th {\n",
              "        text-align: right;\n",
              "    }\n",
              "</style>\n",
              "<table border=\"1\" class=\"dataframe\">\n",
              "  <thead>\n",
              "    <tr style=\"text-align: right;\">\n",
              "      <th></th>\n",
              "      <th>poster_path</th>\n",
              "      <th>weighted_score</th>\n",
              "      <th>predicted</th>\n",
              "      <th>mape</th>\n",
              "    </tr>\n",
              "  </thead>\n",
              "  <tbody>\n",
              "    <tr>\n",
              "      <th>839</th>\n",
              "      <td>drive/MyDrive/images/1kzUhxh9waTvbV4yW1fU1TaaC...</td>\n",
              "      <td>6.354360</td>\n",
              "      <td>9.059406</td>\n",
              "      <td>42.569919</td>\n",
              "    </tr>\n",
              "    <tr>\n",
              "      <th>8136</th>\n",
              "      <td>drive/MyDrive/images/57sYkbVtYf8CarhdpcLJoFUwD...</td>\n",
              "      <td>7.707231</td>\n",
              "      <td>7.690032</td>\n",
              "      <td>0.223143</td>\n",
              "    </tr>\n",
              "    <tr>\n",
              "      <th>8358</th>\n",
              "      <td>drive/MyDrive/images/rRlvKreD88Fj6cUbc2WPxKISx...</td>\n",
              "      <td>6.449695</td>\n",
              "      <td>8.989528</td>\n",
              "      <td>39.379114</td>\n",
              "    </tr>\n",
              "    <tr>\n",
              "      <th>5017</th>\n",
              "      <td>drive/MyDrive/images/8x92ekqR0bR9qBIJLpr7xX7yC...</td>\n",
              "      <td>6.536136</td>\n",
              "      <td>9.989450</td>\n",
              "      <td>52.834200</td>\n",
              "    </tr>\n",
              "    <tr>\n",
              "      <th>5273</th>\n",
              "      <td>drive/MyDrive/images/s6DJXJU3HzX24Ij3VWg5MfVGH...</td>\n",
              "      <td>11.030830</td>\n",
              "      <td>7.644886</td>\n",
              "      <td>30.695285</td>\n",
              "    </tr>\n",
              "    <tr>\n",
              "      <th>...</th>\n",
              "      <td>...</td>\n",
              "      <td>...</td>\n",
              "      <td>...</td>\n",
              "      <td>...</td>\n",
              "    </tr>\n",
              "    <tr>\n",
              "      <th>8702</th>\n",
              "      <td>drive/MyDrive/images/5V10mg1rAbwWYNF6IjnEYokIR...</td>\n",
              "      <td>6.701392</td>\n",
              "      <td>9.617486</td>\n",
              "      <td>43.514757</td>\n",
              "    </tr>\n",
              "    <tr>\n",
              "      <th>5341</th>\n",
              "      <td>drive/MyDrive/images/uiXr41VLYsuug3CZbFrKLSNah...</td>\n",
              "      <td>7.898298</td>\n",
              "      <td>8.462655</td>\n",
              "      <td>7.145305</td>\n",
              "    </tr>\n",
              "    <tr>\n",
              "      <th>4203</th>\n",
              "      <td>drive/MyDrive/images/hCUrI8v523NQDJNKoDxGq2nvb...</td>\n",
              "      <td>7.174515</td>\n",
              "      <td>8.723275</td>\n",
              "      <td>21.586973</td>\n",
              "    </tr>\n",
              "    <tr>\n",
              "      <th>670</th>\n",
              "      <td>drive/MyDrive/images/foQnDv051kQ7satMQkbkPsUxz...</td>\n",
              "      <td>6.649451</td>\n",
              "      <td>5.339352</td>\n",
              "      <td>19.702363</td>\n",
              "    </tr>\n",
              "    <tr>\n",
              "      <th>815</th>\n",
              "      <td>drive/MyDrive/images/skBMhQjHLTU1rp4gutxHp0JuY...</td>\n",
              "      <td>8.361174</td>\n",
              "      <td>8.134462</td>\n",
              "      <td>2.711478</td>\n",
              "    </tr>\n",
              "  </tbody>\n",
              "</table>\n",
              "<p>1992 rows × 4 columns</p>\n",
              "</div>"
            ],
            "text/plain": [
              "                                            poster_path  ...       mape\n",
              "839   drive/MyDrive/images/1kzUhxh9waTvbV4yW1fU1TaaC...  ...  42.569919\n",
              "8136  drive/MyDrive/images/57sYkbVtYf8CarhdpcLJoFUwD...  ...   0.223143\n",
              "8358  drive/MyDrive/images/rRlvKreD88Fj6cUbc2WPxKISx...  ...  39.379114\n",
              "5017  drive/MyDrive/images/8x92ekqR0bR9qBIJLpr7xX7yC...  ...  52.834200\n",
              "5273  drive/MyDrive/images/s6DJXJU3HzX24Ij3VWg5MfVGH...  ...  30.695285\n",
              "...                                                 ...  ...        ...\n",
              "8702  drive/MyDrive/images/5V10mg1rAbwWYNF6IjnEYokIR...  ...  43.514757\n",
              "5341  drive/MyDrive/images/uiXr41VLYsuug3CZbFrKLSNah...  ...   7.145305\n",
              "4203  drive/MyDrive/images/hCUrI8v523NQDJNKoDxGq2nvb...  ...  21.586973\n",
              "670   drive/MyDrive/images/foQnDv051kQ7satMQkbkPsUxz...  ...  19.702363\n",
              "815   drive/MyDrive/images/skBMhQjHLTU1rp4gutxHp0JuY...  ...   2.711478\n",
              "\n",
              "[1992 rows x 4 columns]"
            ]
          },
          "metadata": {},
          "execution_count": 66
        }
      ]
    },
    {
      "cell_type": "code",
      "metadata": {
        "id": "9vf7qAQAGsKh"
      },
      "source": [
        "MAPE = result[(result['mape'] <= 100) & (result['mape'] >= 0)]['mape'].mean()"
      ],
      "execution_count": 67,
      "outputs": []
    },
    {
      "cell_type": "code",
      "metadata": {
        "id": "HDvMaj_uG8hS",
        "colab": {
          "base_uri": "https://localhost:8080/"
        },
        "outputId": "dd06f7c6-3d2f-457a-e282-3d4f8063c675"
      },
      "source": [
        "MAPE"
      ],
      "execution_count": 68,
      "outputs": [
        {
          "output_type": "execute_result",
          "data": {
            "text/plain": [
              "28.739179288753245"
            ]
          },
          "metadata": {},
          "execution_count": 68
        }
      ]
    },
    {
      "cell_type": "code",
      "metadata": {
        "id": "9K2C1P9CG0D4"
      },
      "source": [
        "import numpy as np\n",
        "\n",
        "MAPE_RAW = result[~result.isin([np.nan, np.inf, -np.inf]).any(1)]['mape'].mean()"
      ],
      "execution_count": 69,
      "outputs": []
    },
    {
      "cell_type": "code",
      "metadata": {
        "id": "_ir6pWWMHAah",
        "colab": {
          "base_uri": "https://localhost:8080/"
        },
        "outputId": "cac7976c-ab50-4df6-8e8c-3b8c603b7a95"
      },
      "source": [
        "MAPE_RAW"
      ],
      "execution_count": 70,
      "outputs": [
        {
          "output_type": "execute_result",
          "data": {
            "text/plain": [
              "28.739179288753245"
            ]
          },
          "metadata": {},
          "execution_count": 70
        }
      ]
    },
    {
      "cell_type": "code",
      "metadata": {
        "id": "8MjmclHCHBgw"
      },
      "source": [
        "from sklearn.metrics import mean_squared_error\n",
        "MSE = mean_squared_error(y_true = result['weighted_score'], y_pred = result['predicted'])\n",
        "RMSE = MSE**(0.5)"
      ],
      "execution_count": 71,
      "outputs": []
    },
    {
      "cell_type": "code",
      "metadata": {
        "id": "MrsgGMyQHIXE",
        "colab": {
          "base_uri": "https://localhost:8080/"
        },
        "outputId": "9cc83dec-a9eb-4b51-925d-1989b480a3fe"
      },
      "source": [
        "print(MSE)\n",
        "print(MSE**(0.5))"
      ],
      "execution_count": 72,
      "outputs": [
        {
          "output_type": "stream",
          "name": "stdout",
          "text": [
            "45.186811277832106\n",
            "6.722113601973126\n"
          ]
        }
      ]
    },
    {
      "cell_type": "code",
      "metadata": {
        "id": "fQKuxC8xHK1G",
        "colab": {
          "base_uri": "https://localhost:8080/",
          "height": 367
        },
        "outputId": "976c8306-13c0-4c86-e4c4-9e15915e7f83"
      },
      "source": [
        "fig1 = plt.gcf()\n",
        "pd.value_counts(result['predicted'].round(1)).sort_index().plot(kind=\"bar\")\n",
        "fig1.savefig('img')"
      ],
      "execution_count": 73,
      "outputs": [
        {
          "output_type": "display_data",
          "data": {
            "image/png": "[encoded data removed]",
            "text/plain": [
              "<Figure size 432x288 with 1 Axes>"
            ]
          },
          "metadata": {
            "needs_background": "light"
          }
        }
      ]
    }
  ]
}